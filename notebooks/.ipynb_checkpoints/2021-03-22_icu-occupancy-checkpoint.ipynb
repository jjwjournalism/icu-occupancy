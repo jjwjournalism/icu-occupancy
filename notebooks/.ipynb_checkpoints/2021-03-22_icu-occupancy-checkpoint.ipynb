{
 "cells": [
  {
   "cell_type": "code",
   "execution_count": 1,
   "id": "amazing-cattle",
   "metadata": {},
   "outputs": [],
   "source": [
    "import pandas as pd\n",
    "from geopy.geocoders import Nominatim"
   ]
  },
  {
   "cell_type": "code",
   "execution_count": 2,
   "id": "authentic-knight",
   "metadata": {},
   "outputs": [],
   "source": [
    "#read in CSV\n",
    "hhs_dataset_raw = pd.read_csv('../data/COVID-19_Reported_Patient_Impact_and_Hospital_Capacity_by_Facility.csv',dtype={'zip': str})"
   ]
  },
  {
   "cell_type": "code",
   "execution_count": 4,
   "id": "grand-garbage",
   "metadata": {},
   "outputs": [],
   "source": [
    "#Let's make a column to tell us if the hospital isn't reporting the data we need to calculate occupancy.\n",
    "hhs_dataset_raw['missing_data'] = (hhs_dataset_raw['staffed_adult_icu_bed_occupancy_7_day_avg'] == -999999.0) | (hhs_dataset_raw['total_staffed_adult_icu_beds_7_day_avg'] == -999999.0)\n"
   ]
  },
  {
   "cell_type": "code",
   "execution_count": 5,
   "id": "junior-transport",
   "metadata": {},
   "outputs": [],
   "source": [
    "#Let's make a new column for ICU occupancy, which for our purposes will be\n",
    "#staffed_adult_icu_bed_occupancy_7_day_avg / total_staffed_adult_icu_beds_7_day_avg * 100.\n",
    "\n",
    "\n",
    "hhs_dataset_raw['occupancy_percentage'] = hhs_dataset_raw['staffed_adult_icu_bed_occupancy_7_day_avg'] / hhs_dataset_raw['total_staffed_adult_icu_beds_7_day_avg'] * 100"
   ]
  },
  {
   "cell_type": "code",
   "execution_count": 6,
   "id": "bearing-sheffield",
   "metadata": {},
   "outputs": [],
   "source": [
    "#Let's set the occupancy percentage to -1 if data is missing.\n",
    "\n",
    "hhs_dataset_raw.loc[hhs_dataset_raw['missing_data'] == True, 'occupancy_percentage'] = -1\n"
   ]
  },
  {
   "cell_type": "code",
   "execution_count": 7,
   "id": "brave-scanner",
   "metadata": {},
   "outputs": [],
   "source": [
    "#Let's make a new column that combines the various address fields into one. This will make it easier for us to\n",
    "#geocode hospitals with missing lat/long data.\n",
    "hhs_dataset_raw['geocoding_address'] = hhs_dataset_raw['address']+\", \"+hhs_dataset_raw['city']+\", \"+hhs_dataset_raw['state']+\" \"+hhs_dataset_raw['zip']\n"
   ]
  },
  {
   "cell_type": "code",
   "execution_count": 8,
   "id": "overall-grain",
   "metadata": {},
   "outputs": [],
   "source": [
    "#Filter to include only NYC FIPS codes:\n",
    "#The Bronx/Bronx County (ANSI / FIPS 36005)\n",
    "#Brooklyn/Kings County (ANSI / FIPS 36047)\n",
    "#Manhattan/New York County (ANSI / FIPS 36061)\n",
    "#Queens/Queens County (ANSI / FIPS 36081)\n",
    "#Staten Island/Richmond County (ANSI / FIPS 36085)\n",
    "\n",
    "nyc_fips = [36005,36047,36061,36081,36085]\n",
    "hhs_dataset_raw['in_nyc'] = hhs_dataset_raw['fips_code'].isin(nyc_fips)\n",
    "hhs_nyc = hhs_dataset_raw[hhs_dataset_raw['in_nyc'] == True]"
   ]
  },
  {
   "cell_type": "code",
   "execution_count": 13,
   "id": "traditional-actress",
   "metadata": {},
   "outputs": [],
   "source": [
    "#Filter to include only data from this week\n",
    "hhs_312 = hhs_nyc[hhs_nyc['collection_week'] == \"2021/03/12\"]"
   ]
  },
  {
   "cell_type": "code",
   "execution_count": 15,
   "id": "domestic-comparison",
   "metadata": {},
   "outputs": [],
   "source": [
    "#To make the data a little easier to look at, I'm dropping all but the columns we're interested in:\n",
    "#Basic information about the hospital, staffed ICU beds, occupied ICU beds, ICU beds occupied by COVID px,\n",
    "#total COVID px, and our freshly calculated icu occupancy and geocoding address fields.\n",
    "#\n",
    "\n",
    "included_columns = ['hospital_pk', 'collection_week', 'state', 'ccn', 'hospital_name','address', 'city', 'zip',\n",
    "                    'hospital_subtype', 'fips_code',\n",
    "                    'total_adult_patients_hospitalized_confirmed_and_suspected_covid_7_day_avg',\n",
    "                    'total_staffed_adult_icu_beds_7_day_avg','staffed_adult_icu_bed_occupancy_7_day_avg',\n",
    "                    'staffed_icu_adult_patients_confirmed_and_suspected_covid_7_day_avg','geocoded_hospital_address',\n",
    "                    'missing_data','in_nyc','occupancy_percentage','geocoding_address']\n",
    "\n",
    "hhs_312_slimmed = hhs_312[included_columns]"
   ]
  },
  {
   "cell_type": "code",
   "execution_count": 17,
   "id": "incredible-preview",
   "metadata": {},
   "outputs": [],
   "source": [
    "#Geocoding all the rows of this dataframe would take forever, so I'm just doing it to this slice. To do so, I have to make a copy.\n",
    "hhs_312_geocoded = hhs_312_slimmed.copy()"
   ]
  },
  {
   "cell_type": "code",
   "execution_count": 20,
   "id": "tight-sound",
   "metadata": {},
   "outputs": [],
   "source": [
    "#Now we geocode—or try to, anyway. This didn't work for all rows, so I'm going to fill in the lat and long manually.\n",
    "geolocator = Nominatim(user_agent=\"jjw-nypr\")\n",
    "hhs_312_geocoded['geopy_loc'] = hhs_312_geocoded['geocoding_address'].apply(geolocator.geocode, timeout=None)"
   ]
  },
  {
   "cell_type": "code",
   "execution_count": 28,
   "id": "strategic-database",
   "metadata": {},
   "outputs": [],
   "source": [
    "#Exporting to .csv so I can visualize in Datawrapper.\n",
    "hhs_312_slimmed.to_csv('/Users/jaclynjeffreywilensky/Sites/icu-occupancy/output/2021-03-24_ICUOccupancy312.csv', index=None, header=True)"
   ]
  },
  {
   "cell_type": "code",
   "execution_count": null,
   "id": "dominant-teach",
   "metadata": {},
   "outputs": [],
   "source": [
    "#OK, on to ICU capacity over time. First, we filter out rows that are missing data.\n",
    "hhs_nyc_data_available = hhs_nyc[hhs_nyc['missing_data'] == False]"
   ]
  },
  {
   "cell_type": "code",
   "execution_count": 31,
   "id": "abroad-humor",
   "metadata": {},
   "outputs": [],
   "source": [
    "#Then, we groupby collection week\n",
    "dates = hhs_nyc_data_available.groupby('collection_week')"
   ]
  },
  {
   "cell_type": "code",
   "execution_count": 35,
   "id": "individual-victim",
   "metadata": {},
   "outputs": [
    {
     "data": {
      "text/plain": [
       "collection_week\n",
       "2020/07/31    2183.1\n",
       "2020/08/07    2141.3\n",
       "2020/08/14    2115.4\n",
       "2020/08/21    2134.5\n",
       "2020/08/28    2138.5\n",
       "2020/09/04    2149.1\n",
       "2020/09/11    2511.1\n",
       "2020/09/18    2125.6\n",
       "2020/09/25    2093.3\n",
       "2020/10/02    2166.7\n",
       "2020/10/09    2410.3\n",
       "2020/10/16    2513.8\n",
       "2020/10/23    2599.6\n",
       "2020/10/30    2575.0\n",
       "2020/11/06    2512.0\n",
       "2020/11/13    2479.9\n",
       "2020/11/20    2557.3\n",
       "2020/11/27    2650.3\n",
       "2020/12/04    2674.0\n",
       "2020/12/11    2707.9\n",
       "2020/12/18    2774.2\n",
       "2020/12/25    2616.5\n",
       "2021/01/01    2380.1\n",
       "2021/01/08    2399.8\n",
       "2021/01/15    2405.8\n",
       "2021/01/22    2396.2\n",
       "2021/01/29    2470.6\n",
       "2021/02/05    2483.4\n",
       "2021/02/12    2490.4\n",
       "2021/02/19    2489.6\n",
       "2021/02/26    2527.3\n",
       "2021/03/05    2498.4\n",
       "2021/03/12    2499.1\n",
       "Name: total_staffed_adult_icu_beds_7_day_avg, dtype: float64"
      ]
     },
     "execution_count": 35,
     "metadata": {},
     "output_type": "execute_result"
    }
   ],
   "source": [
    "#Get total staffed beds per collection week....\n",
    "dates['total_staffed_adult_icu_beds_7_day_avg'].sum()"
   ]
  },
  {
   "cell_type": "code",
   "execution_count": 37,
   "id": "hazardous-harris",
   "metadata": {},
   "outputs": [
    {
     "data": {
      "text/plain": [
       "collection_week\n",
       "2020/07/31    1252.3\n",
       "2020/08/07    1244.3\n",
       "2020/08/14    1260.0\n",
       "2020/08/21    1309.9\n",
       "2020/08/28    1325.0\n",
       "2020/09/04    1316.0\n",
       "2020/09/11    1312.6\n",
       "2020/09/18    1317.5\n",
       "2020/09/25    1348.3\n",
       "2020/10/02    1370.0\n",
       "2020/10/09    1546.4\n",
       "2020/10/16    1633.8\n",
       "2020/10/23    1640.7\n",
       "2020/10/30    1643.6\n",
       "2020/11/06    1659.6\n",
       "2020/11/13    1657.3\n",
       "2020/11/20    1681.0\n",
       "2020/11/27    1655.5\n",
       "2020/12/04    1744.0\n",
       "2020/12/11    1688.0\n",
       "2020/12/18    1661.1\n",
       "2020/12/25    1635.1\n",
       "2021/01/01    1702.1\n",
       "2021/01/08    1795.6\n",
       "2021/01/15    1818.2\n",
       "2021/01/22    1865.2\n",
       "2021/01/29    1898.3\n",
       "2021/02/05    1943.2\n",
       "2021/02/12    1918.8\n",
       "2021/02/19    1900.8\n",
       "2021/02/26    1915.9\n",
       "2021/03/05    1927.3\n",
       "2021/03/12    1917.1\n",
       "Name: staffed_adult_icu_bed_occupancy_7_day_avg, dtype: float64"
      ]
     },
     "execution_count": 37,
     "metadata": {},
     "output_type": "execute_result"
    }
   ],
   "source": [
    "#...And total occupied beds.\n",
    "dates['staffed_adult_icu_bed_occupancy_7_day_avg'].sum()"
   ]
  },
  {
   "cell_type": "code",
   "execution_count": 45,
   "id": "sitting-mother",
   "metadata": {},
   "outputs": [],
   "source": [
    "#I copied these into Excel to finish off the analysis. You can find the spreadsheet at output/2021-03-24_icuOccupancyOverTime.xlsx"
   ]
  }
 ],
 "metadata": {
  "kernelspec": {
   "display_name": "Python 3",
   "language": "python",
   "name": "python3"
  },
  "language_info": {
   "codemirror_mode": {
    "name": "ipython",
    "version": 3
   },
   "file_extension": ".py",
   "mimetype": "text/x-python",
   "name": "python",
   "nbconvert_exporter": "python",
   "pygments_lexer": "ipython3",
   "version": "3.7.0"
  }
 },
 "nbformat": 4,
 "nbformat_minor": 5
}
